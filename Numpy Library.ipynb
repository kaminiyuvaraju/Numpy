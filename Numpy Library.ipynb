{
 "cells": [
  {
   "cell_type": "markdown",
   "id": "23a74632",
   "metadata": {},
   "source": [
    "# NumPy\n",
    "# Table of Contents\n"
   ]
  },
  {
   "cell_type": "markdown",
   "id": "f6a048a6",
   "metadata": {},
   "source": [
    "### 1. Converting a List to an array\n",
    "### 2. Arange Function\n",
    "### 3. Multidimensional Array\n",
    "### 4. Size Function\n",
    "### 5. Shape Function\n",
    "### 6. Dtype Function\n",
    "### 7. Ndim Function\n",
    "### 8. Zeros and Ones Function\n",
    "### 9. Eye Function\n",
    "### 10. Empty Function\n",
    "### 11. Random Functions:\n",
    "#### -----a) np.random.rand\n",
    "####-----b) np.random.randint\n",
    "#### -----c) np.random.randn\n",
    "### 12. Reshape function\n",
    "### 13. Linspace Function\n",
    "### 14. Flatten Function\n",
    "### 15. Logspace Function\n",
    "### 16. Copy Function\n",
    "### 17. arr.max() , arr.min() , arr.sum() functions\n",
    "### 18. Seed function\n",
    "### 19. Sorting in numpy array\n",
    "### 20. Mathematical Operation in Numpy\n",
    "### -----a) Addition\n",
    "### -----b) Substraction\n",
    "### -----c) Multiplication\n",
    "### -----d) Division\n",
    "### -----e) Matrix Multiplication\n",
    "### -----f) Power\n",
    "### 21. Percentile Function\n",
    "### 22. Mean, Variance and Standard Deviation\n",
    "### 23. Filtering an numpy array\n",
    "### 24. Transposing an array\n",
    "### 25. Where function\n",
    "### 26. Merging Arrays\n",
    "### -----a) Using Concatenate\n",
    "### -----b) Using vstack and hstack\n",
    "### 27. Splitting Arrays\n",
    "### 28. Turning Pictures into Numpy arrays"
   ]
  },
  {
   "cell_type": "code",
   "execution_count": 33,
   "id": "a277aa95",
   "metadata": {},
   "outputs": [],
   "source": [
    "import numpy as np"
   ]
  },
  {
   "cell_type": "markdown",
   "id": "9563a29d",
   "metadata": {},
   "source": [
    "## 1.Converting a list into Array"
   ]
  },
  {
   "cell_type": "code",
   "execution_count": 34,
   "id": "9279672b",
   "metadata": {},
   "outputs": [
    {
     "name": "stdout",
     "output_type": "stream",
     "text": [
      "<class 'list'>\n",
      "<class 'numpy.ndarray'>\n",
      "[[1 2 3 4]]\n"
     ]
    }
   ],
   "source": [
    "lst = [1,2,3,4]\n",
    "\n",
    "print(type(lst))\n",
    "\n",
    "arr = np.array(lst)\n",
    "\n",
    "print(type(arr))\n",
    "\n",
    "arr = np.array(lst, ndmin = 2)\n",
    "\n",
    "print(arr)\n"
   ]
  },
  {
   "cell_type": "markdown",
   "id": "24fa2426",
   "metadata": {},
   "source": [
    "## 2.Arange Function\n",
    "###### The arange([start][stop][ step,][, dtype]) : Returns an array with evenly spaced elements as per the interval. The interval mentioned is half-opened i.e. [Start, Stop)"
   ]
  },
  {
   "cell_type": "code",
   "execution_count": 35,
   "id": "60358ec5",
   "metadata": {},
   "outputs": [
    {
     "data": {
      "text/plain": [
       "array([ 0,  2,  4,  6,  8, 10, 12, 14, 16, 18])"
      ]
     },
     "execution_count": 35,
     "metadata": {},
     "output_type": "execute_result"
    }
   ],
   "source": [
    "np.arange(0,20,2)"
   ]
  },
  {
   "cell_type": "markdown",
   "id": "093eb7df",
   "metadata": {},
   "source": [
    "# 3. Multidimensional Array"
   ]
  },
  {
   "cell_type": "code",
   "execution_count": 36,
   "id": "be605379",
   "metadata": {},
   "outputs": [
    {
     "name": "stdout",
     "output_type": "stream",
     "text": [
      "[[1 2 3]\n",
      " [4 5 6]\n",
      " [7 8 9]]\n",
      "Dimension : 2\n"
     ]
    }
   ],
   "source": [
    "arr = np.array([[1,2,3],[4,5,6],[7,8,9]])\n",
    "\n",
    "print(arr)\n",
    "print(\"Dimension :\",arr.ndim)"
   ]
  },
  {
   "cell_type": "markdown",
   "id": "185b83b8",
   "metadata": {},
   "source": [
    "# 4. Size Function\n",
    "###### In Python, numpy.size() function count the number of elements along a given axis (0 - Rows | 1 - Columns)"
   ]
  },
  {
   "cell_type": "code",
   "execution_count": 37,
   "id": "eba18668",
   "metadata": {},
   "outputs": [
    {
     "name": "stdout",
     "output_type": "stream",
     "text": [
      "Total :  12\n",
      "Rows  :  4\n",
      "Cols  :  3\n"
     ]
    },
    {
     "data": {
      "text/plain": [
       "array([[1, 2, 3],\n",
       "       [4, 5, 6],\n",
       "       [7, 8, 9],\n",
       "       [1, 2, 3]])"
      ]
     },
     "execution_count": 37,
     "metadata": {},
     "output_type": "execute_result"
    }
   ],
   "source": [
    "arr = np.array([[1,2,3],[4,5,6],[7,8,9],[1,2,3]])\n",
    "\n",
    "print('Total : ', arr.size)\n",
    "print('Rows  : ', np.size(arr,0))\n",
    "print('Cols  : ', np.size(arr,1))\n",
    "\n",
    "arr"
   ]
  },
  {
   "cell_type": "markdown",
   "id": "f36503bb",
   "metadata": {},
   "source": [
    "# 5. Shape Function\n",
    "##### The shape of an array can be defined as the number of elements in each dimension. Dimension is the number of indices or subscripts, that we require in order to specify an individual element of an array."
   ]
  },
  {
   "cell_type": "code",
   "execution_count": 38,
   "id": "667c7a09",
   "metadata": {},
   "outputs": [
    {
     "name": "stdout",
     "output_type": "stream",
     "text": [
      "(4, 3)\n",
      "(4, 3)\n"
     ]
    }
   ],
   "source": [
    "arr = np.array([[1,2,3],[4,5,6],[7,8,9],[1,2,3]])\n",
    "\n",
    "print((np.size(arr,0),np.size(arr,1)))\n",
    "\n",
    "print(arr.shape)"
   ]
  },
  {
   "cell_type": "markdown",
   "id": "523e1cb5",
   "metadata": {},
   "source": [
    "# 6. Dtype Function\n",
    "##### Every ndarray has an associated data type (dtype) object. This data type object (dtype) informs us about the layout of the array. This means it gives us information about:\n",
    "\n",
    "##### Type of the data (integer, float, Python object, etc.)\n",
    "##### Size of the data (number of bytes)\n",
    "##### The byte order of the data (little-endian or big-endian)\n",
    "##### If the data type is a sub-array, what is its shape and data type?"
   ]
  },
  {
   "cell_type": "code",
   "execution_count": 40,
   "id": "f4c5e77f",
   "metadata": {},
   "outputs": [
    {
     "name": "stdout",
     "output_type": "stream",
     "text": [
      "int64\n",
      "float64\n"
     ]
    }
   ],
   "source": [
    "arr1 = np.array([1,2,3,1,2,3])\n",
    "arr2 = np.array([1.2,3.1,2.3])\n",
    "\n",
    "\n",
    "print(arr1.dtype)\n",
    "print(arr2.dtype)"
   ]
  },
  {
   "cell_type": "markdown",
   "id": "07212f6e",
   "metadata": {},
   "source": [
    "# 7. Ndim Function\n",
    "#### numpy.ndarray.ndim() function return the number of dimensions of an array"
   ]
  },
  {
   "cell_type": "code",
   "execution_count": 41,
   "id": "486a9dd6",
   "metadata": {},
   "outputs": [
    {
     "name": "stdout",
     "output_type": "stream",
     "text": [
      "1\n",
      "2\n",
      "3\n"
     ]
    }
   ],
   "source": [
    "arr1 = np.array([1,2,3,1,2,3])\n",
    "arr2 = np.array([[1,2,3],[1,2,3]])\n",
    "\n",
    "print(arr1.ndim)\n",
    "print(arr2.ndim)\n",
    "\n",
    "arr3 = np.array(arr1, ndmin = 3)\n",
    "print(arr3.ndim)\n"
   ]
  },
  {
   "cell_type": "markdown",
   "id": "52efb30b",
   "metadata": {},
   "source": [
    "# 8. Zeros Function\n",
    "#### The numpy.zeros() function returns a new array of given shape and type, with zeros. Syntax:\n",
    "\n",
    "### numpy.zeros(shape, dtype = None)\n"
   ]
  },
  {
   "cell_type": "code",
   "execution_count": 42,
   "id": "066027cf",
   "metadata": {},
   "outputs": [
    {
     "name": "stdout",
     "output_type": "stream",
     "text": [
      "[[0 0 0 0 0]\n",
      " [0 0 0 0 0]\n",
      " [0 0 0 0 0]]\n"
     ]
    }
   ],
   "source": [
    "arr = np.zeros(shape = (3,5), dtype = int)\n",
    "\n",
    "print(arr)"
   ]
  },
  {
   "cell_type": "markdown",
   "id": "e78560f3",
   "metadata": {},
   "source": [
    "# Ones Function\n",
    "#### The numpy.ones() function returns a new array of given shape and type, with ones.\n",
    "\n",
    "### Syntax: numpy.ones(shape, dtype = None)\n"
   ]
  },
  {
   "cell_type": "code",
   "execution_count": 43,
   "id": "a66683c1",
   "metadata": {},
   "outputs": [
    {
     "name": "stdout",
     "output_type": "stream",
     "text": [
      "[[1 1 1 1 1]\n",
      " [1 1 1 1 1]\n",
      " [1 1 1 1 1]]\n"
     ]
    }
   ],
   "source": [
    "arr = np.ones(shape = (3,5), dtype = int)\n",
    "\n",
    "print(arr)"
   ]
  },
  {
   "cell_type": "markdown",
   "id": "cdcda285",
   "metadata": {},
   "source": [
    "# 9. Eye Function\n",
    "#### The eye tool returns a 2-D array with 1’s as the diagonal and 0’s elsewhere. The diagonal can be main, upper, or lower depending on the optional parameter k."
   ]
  },
  {
   "cell_type": "code",
   "execution_count": 48,
   "id": "a01dfad4",
   "metadata": {},
   "outputs": [
    {
     "data": {
      "text/plain": [
       "array([[1, 0, 0, 0],\n",
       "       [0, 1, 0, 0],\n",
       "       [0, 0, 1, 0],\n",
       "       [0, 0, 0, 1]])"
      ]
     },
     "execution_count": 48,
     "metadata": {},
     "output_type": "execute_result"
    }
   ],
   "source": [
    "np.eye(4,dtype=int)"
   ]
  },
  {
   "cell_type": "markdown",
   "id": "ae8c6c55",
   "metadata": {},
   "source": [
    "# 10. Empty Function\n",
    "#### Return am empty array of given shape and type"
   ]
  },
  {
   "cell_type": "code",
   "execution_count": 55,
   "id": "48cf211f",
   "metadata": {},
   "outputs": [
    {
     "data": {
      "text/plain": [
       "array([[0., 0., 0., 0., 0.],\n",
       "       [0., 0., 0., 0., 0.],\n",
       "       [0., 0., 0., 0., 0.]])"
      ]
     },
     "execution_count": 55,
     "metadata": {},
     "output_type": "execute_result"
    }
   ],
   "source": [
    "np.empty(shape = (3,5))"
   ]
  },
  {
   "cell_type": "markdown",
   "id": "c9993ccb",
   "metadata": {},
   "source": [
    "# 11. Random Functions"
   ]
  },
  {
   "cell_type": "markdown",
   "id": "d1b3d3b7",
   "metadata": {},
   "source": [
    "### a) np.random.rand\n",
    "##### The numpy.random.rand() function creates an array of specified shape and fills it with random values."
   ]
  },
  {
   "cell_type": "code",
   "execution_count": 57,
   "id": "1ccc7171",
   "metadata": {},
   "outputs": [
    {
     "data": {
      "text/plain": [
       "array([[0.51854221, 0.37375253, 0.86174822, 0.8989418 ],\n",
       "       [0.90883441, 0.4681253 , 0.27627106, 0.3902579 ],\n",
       "       [0.61627571, 0.12401284, 0.18763985, 0.06516892]])"
      ]
     },
     "execution_count": 57,
     "metadata": {},
     "output_type": "execute_result"
    }
   ],
   "source": [
    "np.random.rand(3,4)"
   ]
  },
  {
   "cell_type": "markdown",
   "id": "f742e2b8",
   "metadata": {},
   "source": [
    "### b) np.random.randint\n",
    "##### numpy.random.randint() is one of the function for doing random sampling in numpy. It returns an array of specified shape and fills it with random integers from low (inclusive) to high (exclusive), i.e. in the interval [low, high)."
   ]
  },
  {
   "cell_type": "code",
   "execution_count": 58,
   "id": "581f08ce",
   "metadata": {},
   "outputs": [
    {
     "data": {
      "text/plain": [
       "array([6, 2, 8, 4, 8, 6, 7, 5, 7, 2])"
      ]
     },
     "execution_count": 58,
     "metadata": {},
     "output_type": "execute_result"
    }
   ],
   "source": [
    "np.random.randint(low = 1, high = 10, size = 10)"
   ]
  },
  {
   "cell_type": "markdown",
   "id": "797389eb",
   "metadata": {},
   "source": [
    "### c) np.random.randn\n",
    "##### The numpy.random.randn() function creates an array of specified shape and fills it with random values as per standard normal distribution."
   ]
  },
  {
   "cell_type": "code",
   "execution_count": 64,
   "id": "19dc1c40",
   "metadata": {},
   "outputs": [
    {
     "data": {
      "image/png": "[encoded data removed]",
      "text/plain": [
       "<Figure size 640x480 with 1 Axes>"
      ]
     },
     "metadata": {},
     "output_type": "display_data"
    }
   ],
   "source": [
    "import matplotlib.pyplot as plt\n",
    "\n",
    "%matplotlib inline\n",
    "\n",
    "plt.hist(np.random.randn(10000000), bins = 1000);"
   ]
  },
  {
   "cell_type": "markdown",
   "id": "4cc64d6a",
   "metadata": {},
   "source": [
    "# 12. Reshape function - will not alter the original data\n",
    "#### The numpy.reshape() function shapes an array without changing the data of the array.<br> It should be noted that the product if the rows and columns should be same"
   ]
  },
  {
   "cell_type": "code",
   "execution_count": 61,
   "id": "96f4897e",
   "metadata": {},
   "outputs": [
    {
     "name": "stdout",
     "output_type": "stream",
     "text": [
      "(3, 4)\n",
      "(4, 3)\n",
      "(6, 2)\n"
     ]
    }
   ],
   "source": [
    "arr = np.random.randint(1,15,(3,4))\n",
    "\n",
    "print(arr.shape)\n",
    "arr = arr.reshape(4,3)\n",
    "print(arr.shape)\n",
    "arr = arr.reshape(6,2)\n",
    "print(arr.shape)"
   ]
  },
  {
   "cell_type": "markdown",
   "id": "55ab3983",
   "metadata": {},
   "source": [
    "# 13. Linspace Function\n",
    "#### The numpy.linspace() function returns number spaces evenly w.r.t interval. Similar to numpy.arange() function but instead of step it uses sample number."
   ]
  },
  {
   "cell_type": "markdown",
   "id": "b27a5a3f",
   "metadata": {},
   "source": [
    "### Parameters :\n",
    "\n",
    "#### -> start : [optional] start of interval range. By default start = 0\n",
    "#### -> stop : end of interval range\n",
    "#### -> restep : If True, return (samples, step). By default restep = False\n",
    "#### -> num : [int, optional] No. of samples to generate\n",
    "#### -> dtype : type of output array"
   ]
  },
  {
   "cell_type": "code",
   "execution_count": 65,
   "id": "38cd20c6",
   "metadata": {},
   "outputs": [
    {
     "data": {
      "text/plain": [
       "array([ 1.  ,  3.25,  5.5 ,  7.75, 10.  ])"
      ]
     },
     "execution_count": 65,
     "metadata": {},
     "output_type": "execute_result"
    }
   ],
   "source": [
    "np.linspace(1,10,5)"
   ]
  },
  {
   "cell_type": "markdown",
   "id": "38d8335b",
   "metadata": {},
   "source": [
    "# 14. Flatten Function\n",
    "#### ndarray.flatten() function return a copy of the array collapsed into one dimension."
   ]
  },
  {
   "cell_type": "code",
   "execution_count": 66,
   "id": "7ba44898",
   "metadata": {},
   "outputs": [
    {
     "name": "stdout",
     "output_type": "stream",
     "text": [
      "(3, 4)\n",
      "[[10  7  3 13]\n",
      " [11 14  6  5]\n",
      " [ 7  1  1  1]]\n",
      "--------------------\n",
      "(12,)\n",
      "[10  7  3 13 11 14  6  5  7  1  1  1]\n"
     ]
    }
   ],
   "source": [
    "arr = np.random.randint(1,15,(3,4))\n",
    "\n",
    "print(arr.shape)\n",
    "print(arr)\n",
    "print('-'*20)\n",
    "arr = arr.flatten()\n",
    "print(arr.shape)\n",
    "print(arr)"
   ]
  },
  {
   "cell_type": "markdown",
   "id": "999077c8",
   "metadata": {},
   "source": [
    "# 15. Logspace Function\n",
    "#### The numpy.logspace() function returns number spaces evenly w.r.t interval on a log scale.\n",
    "\n",
    "### Parameters :\n",
    "\n",
    "#### -> start : [float] start(base ** start) of interval range.\n",
    "#### -> stop : [float] end(base ** stop) of interval range\n",
    "#### -> endpoint : [boolean, optional]If True, stop is the last sample. By default, True\n",
    "#### -> num : [int, optional] No. of samples to generate\n",
    "#### -> base : [float, optional] Base of log scale. By default, equals 10.0\n",
    "#### -> dtype : type of output array\n"
   ]
  },
  {
   "cell_type": "code",
   "execution_count": 69,
   "id": "b1ec7935",
   "metadata": {},
   "outputs": [
    {
     "name": "stdout",
     "output_type": "stream",
     "text": [
      "[  100.           166.81005372   278.25594022   464.15888336\n",
      "   774.26368268  1291.54966501  2154.43469003  3593.8136638\n",
      "  5994.84250319 10000.        ]\n",
      "------------------------------------------------------------\n",
      "[ 4.          4.66611616  5.44316     6.34960421  7.4069977   8.64047791\n",
      " 10.0793684  11.75787594 13.71590373 16.        ]\n"
     ]
    }
   ],
   "source": [
    "print(np.logspace(2,4,10))\n",
    "print('-'*60)\n",
    "print(np.logspace(2,4,10, base = 2))"
   ]
  },
  {
   "cell_type": "markdown",
   "id": "eb5d56e9",
   "metadata": {},
   "source": [
    "# 16. Copy function\n",
    "#### If we normally use the equals sign then the **id** of both the numpy array will be same, so we need to use to copy function"
   ]
  },
  {
   "cell_type": "code",
   "execution_count": 71,
   "id": "af656443",
   "metadata": {},
   "outputs": [
    {
     "name": "stdout",
     "output_type": "stream",
     "text": [
      "[ 5  5  5  1  7  5  1  9 11 14] 140640318209552\n",
      "[ 5  5  5  1  7  5  1  9 11 14] 140640318209552\n",
      "--------------------------------------------------\n",
      "[10  8 14 14 12 12  5 11  2 12] 140640318202000\n",
      "[10  8 14 14 12 12  5 11  2 12] 140640786603920\n"
     ]
    }
   ],
   "source": [
    "arr1 = np.random.randint(1,15,10)\n",
    "\n",
    "arr2 = arr1\n",
    "\n",
    "print(arr1, id(arr1))\n",
    "print(arr2, id(arr2))\n",
    "\n",
    "print('-'*50)\n",
    "\n",
    "arr1 = np.random.randint(1,15,10)\n",
    "arr2 = np.copy(arr1)\n",
    "\n",
    "print(arr1, id(arr1))\n",
    "print(arr2, id(arr2))"
   ]
  },
  {
   "cell_type": "markdown",
   "id": "87d732e3",
   "metadata": {},
   "source": [
    "# 17. arr.max() , arr.min() , arr.sum() functions\n",
    "    . arr.max() will give us the maximum element present in the array\n",
    "    . arr.min() will give us the minimun element present in the array\n",
    "    . arr.sum() will give us the sum of all the elements present in the array"
   ]
  },
  {
   "cell_type": "code",
   "execution_count": 73,
   "id": "895f8ec3",
   "metadata": {},
   "outputs": [
    {
     "name": "stdout",
     "output_type": "stream",
     "text": [
      "--------------------\n",
      "[[ 6  9 17  8  3]\n",
      " [18 11 21 10  2]\n",
      " [20 11  2 24 23]]\n",
      "--------------------\n",
      "MAX :  24\n",
      "MIN :  2\n",
      "SUM :  185\n"
     ]
    }
   ],
   "source": [
    "arr = np.random.randint(1,30,(3,5))\n",
    "\n",
    "print('-'*20)\n",
    "print(arr)\n",
    "print('-'*20)\n",
    "\n",
    "print('MAX : ', arr.max())\n",
    "print('MIN : ', arr.min())\n",
    "print('SUM : ', arr.sum())"
   ]
  },
  {
   "cell_type": "markdown",
   "id": "1649709a",
   "metadata": {},
   "source": [
    "#### We can use the axis parameter to get the max, min and sum of a particular column or row\n",
    "\n",
    "    . axis=0 is for the column\n",
    "    . axis=1 is for the row"
   ]
  },
  {
   "cell_type": "code",
   "execution_count": 74,
   "id": "987c0d0d",
   "metadata": {},
   "outputs": [
    {
     "name": "stdout",
     "output_type": "stream",
     "text": [
      "--------------------\n",
      "[[27 12  5 15 27]\n",
      " [14 21 10 15 13]\n",
      " [25 29  7  6 27]]\n",
      "--------------------\n"
     ]
    }
   ],
   "source": [
    "arr = np.random.randint(1,30,(3,5))\n",
    "\n",
    "print('-'*20)\n",
    "print(arr)\n",
    "print('-'*20)"
   ]
  },
  {
   "cell_type": "markdown",
   "id": "704a02ee",
   "metadata": {},
   "source": [
    "##### For columns"
   ]
  },
  {
   "cell_type": "code",
   "execution_count": 75,
   "id": "8e0809a6",
   "metadata": {},
   "outputs": [
    {
     "name": "stdout",
     "output_type": "stream",
     "text": [
      "MAX :  [27 29 10 15 27]\n",
      "MIN :  [14 12  5  6 13]\n",
      "SUM :  [66 62 22 36 67]\n"
     ]
    }
   ],
   "source": [
    "print('MAX : ', arr.max(axis = 0))\n",
    "print('MIN : ', arr.min(axis = 0))\n",
    "print('SUM : ', arr.sum(axis = 0))"
   ]
  },
  {
   "cell_type": "markdown",
   "id": "7777b1f1",
   "metadata": {},
   "source": [
    "#### Fow rows"
   ]
  },
  {
   "cell_type": "code",
   "execution_count": 76,
   "id": "d4a06d40",
   "metadata": {},
   "outputs": [
    {
     "name": "stdout",
     "output_type": "stream",
     "text": [
      "MAX :  [27 21 29]\n",
      "MIN :  [ 5 10  6]\n",
      "SUM :  [86 73 94]\n"
     ]
    }
   ],
   "source": [
    "print('MAX : ', arr.max(axis = 1))\n",
    "print('MIN : ', arr.min(axis = 1))\n",
    "print('SUM : ', arr.sum(axis = 1))"
   ]
  },
  {
   "cell_type": "markdown",
   "id": "6afc1bc5",
   "metadata": {},
   "source": [
    "# 18. Seed Function\n",
    "##### random() function is used to generate random numbers in Python. Not actually random, rather this is used to generate pseudo-random numbers. That implies that these randomly generated numbers can be determined. random() function generates numbers for some values. This value is also called seed value.\n",
    "\n",
    "### Syntax : random.seed( l, version )<br>\n",
    "##### Parameter :\n",
    "\n",
    "    l : Any seed value used to produce a random number.\n",
    "    version : A integer used to specify how to convert l in a integer.\n"
   ]
  },
  {
   "cell_type": "code",
   "execution_count": 89,
   "id": "2f618890",
   "metadata": {},
   "outputs": [
    {
     "data": {
      "text/plain": [
       "array([[9, 4, 9, 9, 1],\n",
       "       [6, 4, 6, 8, 7],\n",
       "       [1, 5, 8, 9, 2]])"
      ]
     },
     "execution_count": 89,
     "metadata": {},
     "output_type": "execute_result"
    }
   ],
   "source": [
    "np.random.seed(3)\n",
    "\n",
    "arr = np.random.randint(1,10,(3,5))\n",
    "\n",
    "arr"
   ]
  },
  {
   "cell_type": "markdown",
   "id": "9cbff963",
   "metadata": {},
   "source": [
    "# 19. Sorting Function\n",
    "### numpy.sort() : This function returns a sorted copy of an array.\n",
    "\n",
    "#### Parameters :\n",
    "\n",
    "        arr : Array to be sorted.\n",
    "        axis : Axis along which we need array to be started.\n",
    "        order : This argument specifies which fields to compare first.\n",
    "        kind : [‘quicksort’{default}, ‘mergesort’, ‘heapsort’]Sorting algorithm."
   ]
  },
  {
   "cell_type": "code",
   "execution_count": 79,
   "id": "be1d6455",
   "metadata": {},
   "outputs": [
    {
     "name": "stdout",
     "output_type": "stream",
     "text": [
      "---------------\n",
      "[[9 4 9 9 1]\n",
      " [6 4 6 8 7]\n",
      " [1 5 8 9 2]]\n",
      "---------------\n",
      "[[1 4 9 9 9]\n",
      " [4 6 6 7 8]\n",
      " [1 2 5 8 9]]\n",
      "---------------\n",
      "[[1 4 6 8 1]\n",
      " [6 4 8 9 2]\n",
      " [9 5 9 9 7]]\n",
      "---------------\n",
      "[[1 1 2 4 4]\n",
      " [5 6 6 7 8]\n",
      " [8 9 9 9 9]]\n",
      "---------------\n"
     ]
    }
   ],
   "source": [
    "np.random.seed(3)\n",
    "arr = np.random.randint(1,10,(3,5))\n",
    "\n",
    "\n",
    "print('-'*15)\n",
    "print(arr)\n",
    "print('-'*15)\n",
    "print(np.sort(arr, axis = 1))\n",
    "print('-'*15)\n",
    "print(np.sort(arr, axis = 0))\n",
    "print('-'*15)\n",
    "\n",
    "arr = np.reshape(np.sort(arr.flatten()), arr.shape)\n",
    "print(arr)\n",
    "print('-'*15)"
   ]
  },
  {
   "cell_type": "markdown",
   "id": "ef0c8817",
   "metadata": {},
   "source": [
    "We can choose which type of sort we want to perform"
   ]
  },
  {
   "cell_type": "code",
   "execution_count": 91,
   "id": "1ea59e12",
   "metadata": {},
   "outputs": [
    {
     "name": "stdout",
     "output_type": "stream",
     "text": [
      "[[1 4 6 8 1]\n",
      " [6 4 8 9 2]\n",
      " [9 5 9 9 7]]\n"
     ]
    }
   ],
   "source": [
    "print(np.sort(arr, axis = 0, kind = 'quicksort'))"
   ]
  },
  {
   "cell_type": "markdown",
   "id": "55189e20",
   "metadata": {},
   "source": [
    "# 20. Mathematical Operations\n",
    "### a) Addition"
   ]
  },
  {
   "cell_type": "code",
   "execution_count": 81,
   "id": "eb0718e9",
   "metadata": {},
   "outputs": [
    {
     "name": "stdout",
     "output_type": "stream",
     "text": [
      "---------------\n",
      "[[9 4 9 9 1]\n",
      " [6 4 6 8 7]\n",
      " [1 5 8 9 2]]\n",
      "---------------\n",
      "[[10  5 10 10  2]\n",
      " [ 7  5  7  9  8]\n",
      " [ 2  6  9 10  3]]\n",
      "---------------\n"
     ]
    }
   ],
   "source": [
    "np.random.seed(3)\n",
    "\n",
    "arr = np.random.randint(1,10,(3,5))\n",
    "\n",
    "print('-' * 15)\n",
    "print(arr)\n",
    "print('-' * 15)\n",
    "print(arr + 1)\n",
    "print('-' * 15)"
   ]
  },
  {
   "cell_type": "markdown",
   "id": "8933f0fb",
   "metadata": {},
   "source": [
    "### b) Substraction"
   ]
  },
  {
   "cell_type": "code",
   "execution_count": 82,
   "id": "e0a9cfd4",
   "metadata": {},
   "outputs": [
    {
     "name": "stdout",
     "output_type": "stream",
     "text": [
      "---------------\n",
      "[[9 4 9 9 1]\n",
      " [6 4 6 8 7]\n",
      " [1 5 8 9 2]]\n",
      "---------------\n",
      "[[8 3 8 8 0]\n",
      " [5 3 5 7 6]\n",
      " [0 4 7 8 1]]\n",
      "---------------\n"
     ]
    }
   ],
   "source": [
    "print('-' * 15)\n",
    "print(arr)\n",
    "print('-' * 15)\n",
    "print(arr - 1)\n",
    "print('-' * 15)"
   ]
  },
  {
   "cell_type": "markdown",
   "id": "c8caa6f4",
   "metadata": {},
   "source": [
    "### c) Multiplication"
   ]
  },
  {
   "cell_type": "code",
   "execution_count": 83,
   "id": "d2d7c1c7",
   "metadata": {},
   "outputs": [
    {
     "name": "stdout",
     "output_type": "stream",
     "text": [
      "---------------\n",
      "[[9 4 9 9 1]\n",
      " [6 4 6 8 7]\n",
      " [1 5 8 9 2]]\n",
      "---------------\n",
      "[[18  8 18 18  2]\n",
      " [12  8 12 16 14]\n",
      " [ 2 10 16 18  4]]\n",
      "---------------\n"
     ]
    }
   ],
   "source": [
    "print('-' * 15)\n",
    "print(arr)\n",
    "print('-' * 15)\n",
    "print(arr * 2)\n",
    "print('-' * 15)"
   ]
  },
  {
   "cell_type": "markdown",
   "id": "0de116f2",
   "metadata": {},
   "source": [
    "### d) Division"
   ]
  },
  {
   "cell_type": "code",
   "execution_count": 93,
   "id": "25ad059a",
   "metadata": {},
   "outputs": [
    {
     "name": "stdout",
     "output_type": "stream",
     "text": [
      "---------------\n",
      "[[9 4 9 9 1]\n",
      " [6 4 6 8 7]\n",
      " [1 5 8 9 2]]\n",
      "---------------\n",
      "[[4.5 2.  4.5 4.5 0.5]\n",
      " [3.  2.  3.  4.  3.5]\n",
      " [0.5 2.5 4.  4.5 1. ]]\n",
      "---------------\n"
     ]
    }
   ],
   "source": [
    "print('-' * 15)\n",
    "print(arr)\n",
    "print('-' * 15)\n",
    "print(arr / 2)\n",
    "print('-' * 15)\n"
   ]
  },
  {
   "cell_type": "markdown",
   "id": "c8f39aba",
   "metadata": {},
   "source": [
    "# e) Matrix Multiplication\n",
    "    For Matrix Multiplication we either use the\n",
    "\n",
    "    dot function or\n",
    "    the @ symbol"
   ]
  },
  {
   "cell_type": "code",
   "execution_count": 85,
   "id": "b6773d53",
   "metadata": {},
   "outputs": [
    {
     "name": "stdout",
     "output_type": "stream",
     "text": [
      "[[ 25  78]\n",
      " [ 45 108]]\n",
      "------------\n",
      "[[ 25  78]\n",
      " [ 45 108]]\n"
     ]
    }
   ],
   "source": [
    "np.random.seed(3)\n",
    "\n",
    "arr1 = np.random.randint(1,10,(2,2))\n",
    "arr2 = np.random.randint(1,10,(2,2))\n",
    "\n",
    "print(arr1.dot(arr2))\n",
    "print('-'*12)\n",
    "print(arr1@arr2)\n"
   ]
  },
  {
   "cell_type": "markdown",
   "id": "e77ca6b2",
   "metadata": {},
   "source": [
    "### f) Power"
   ]
  },
  {
   "cell_type": "code",
   "execution_count": 86,
   "id": "38e1e71c",
   "metadata": {},
   "outputs": [
    {
     "name": "stdout",
     "output_type": "stream",
     "text": [
      "[[9 4 9 9 1]\n",
      " [6 4 6 8 7]\n",
      " [1 5 8 9 2]]\n",
      "---------------\n",
      "[[81 16 81 81  1]\n",
      " [36 16 36 64 49]\n",
      " [ 1 25 64 81  4]]\n"
     ]
    }
   ],
   "source": [
    "print(arr)\n",
    "print('-'*15)\n",
    "print(arr ** 2)"
   ]
  },
  {
   "cell_type": "markdown",
   "id": "1963abd7",
   "metadata": {},
   "source": [
    "# 21. Percentile Function\n",
    "    numpy.percentile()function used to compute the nth percentile of the given data (array elements) along the specified axis."
   ]
  },
  {
   "cell_type": "code",
   "execution_count": 95,
   "id": "f2888a38",
   "metadata": {},
   "outputs": [
    {
     "name": "stdout",
     "output_type": "stream",
     "text": [
      "[9 4 9 9 1 6 4 6 8 7]\n",
      "[1 4 4 6 6 7 8 9 9 9]\n",
      "3.7\n"
     ]
    }
   ],
   "source": [
    "np.random.seed(3)\n",
    "\n",
    "arr = np.random.randint(1,10,10)\n",
    "print(arr)\n",
    "\n",
    "arr = np.sort(arr)\n",
    "print(arr)\n",
    "\n",
    "print(np.percentile(arr, 10))"
   ]
  },
  {
   "cell_type": "markdown",
   "id": "066fc35c",
   "metadata": {},
   "source": [
    "# 22. Mean, Variance and Standard deviation\n",
    "#### In NumPy, we can compute the mean, standard deviation, and variance of a given array along the second axis by two approaches first is by using inbuilt functions and second is by the formulas of the mean, standard deviation, and variance.\n",
    "Using numpy.mean(), numpy.std(), numpy.var()"
   ]
  },
  {
   "cell_type": "code",
   "execution_count": 98,
   "id": "9e923f0d",
   "metadata": {},
   "outputs": [
    {
     "name": "stdout",
     "output_type": "stream",
     "text": [
      "[6 9 2 9 8 9 2 1 6 5]\n",
      "5.7\n",
      "8.809999999999999\n",
      "2.9681644159311658\n"
     ]
    }
   ],
   "source": [
    "arr = np.random.randint(1,10,10)\n",
    "\n",
    "print(arr)\n",
    "print(arr.mean())\n",
    "print(arr.var())\n",
    "print(arr.std())"
   ]
  },
  {
   "cell_type": "markdown",
   "id": "797f5f9b",
   "metadata": {},
   "source": [
    "# 23. Filtering an numpy array"
   ]
  },
  {
   "cell_type": "code",
   "execution_count": 99,
   "id": "391cb91f",
   "metadata": {},
   "outputs": [
    {
     "name": "stdout",
     "output_type": "stream",
     "text": [
      "[1 2 3 4 5 6 7 8 9]\n",
      "[ True  True  True  True False False False False False]\n",
      "[1 2 3 4]\n"
     ]
    }
   ],
   "source": [
    "arr = np.arange(1,10)\n",
    "\n",
    "print(arr)\n",
    "print(arr < 5)\n",
    "print(arr[arr < 5])"
   ]
  },
  {
   "cell_type": "markdown",
   "id": "93bde0c0",
   "metadata": {},
   "source": [
    "We can store this into a new variable if we need this filtered array"
   ]
  },
  {
   "cell_type": "code",
   "execution_count": 100,
   "id": "42548d7c",
   "metadata": {},
   "outputs": [
    {
     "name": "stdout",
     "output_type": "stream",
     "text": [
      "[1 2 3 4]\n"
     ]
    }
   ],
   "source": [
    "arr2 = arr[arr < 5] \n",
    "print(arr2)"
   ]
  },
  {
   "cell_type": "markdown",
   "id": "ae6a74ce",
   "metadata": {},
   "source": [
    "# 24 Transposing an array\n",
    "#### With the help of Numpy ndarray.T object, we can make a Transpose of an array having dimension greater than or equal to 2."
   ]
  },
  {
   "cell_type": "code",
   "execution_count": 103,
   "id": "139db821",
   "metadata": {},
   "outputs": [
    {
     "name": "stdout",
     "output_type": "stream",
     "text": [
      "[[ 5  4 17 17  1]\n",
      " [17 19 19 12  1]\n",
      " [14  6 17  2 18]]\n",
      "--------------------\n",
      "[[ 5 17 14]\n",
      " [ 4 19  6]\n",
      " [17 19 17]\n",
      " [17 12  2]\n",
      " [ 1  1 18]]\n"
     ]
    }
   ],
   "source": [
    "arr = np.random.randint(1,20,(3,5))\n",
    "\n",
    "print(arr)\n",
    "print('-'*20)\n",
    "print(arr.T)"
   ]
  },
  {
   "cell_type": "markdown",
   "id": "f13343c8",
   "metadata": {},
   "source": [
    "# 25. Where function\n",
    "The numpy.where() function returns the indices of elements in an input array where the given condition is satisfied.\n",
    "\n",
    "Syntax :numpy.where(condition[, x, y]) Parameters: condition : When True, yield x, otherwise yield y. x, y : Values from which to choose. x, y and condition need to be broadcastable to some shape.\n",
    "\n",
    "Returns: out : [ndarray or tuple of ndarrays] If both x and y are specified, the output array contains elements of x where condition is True, and elements from y elsewhere.\n",
    "\n",
    "If only condition is given, return the tuple condition.nonzero(), the indices where condition is True."
   ]
  },
  {
   "cell_type": "code",
   "execution_count": 104,
   "id": "09408b6e",
   "metadata": {},
   "outputs": [
    {
     "data": {
      "text/plain": [
       "array([ 3, 29, 37, 91, 45, 49, 60, 75, 55, 92])"
      ]
     },
     "execution_count": 104,
     "metadata": {},
     "output_type": "execute_result"
    }
   ],
   "source": [
    "arr = np.random.randint(1,100,10)\n",
    "arr"
   ]
  },
  {
   "cell_type": "code",
   "execution_count": 105,
   "id": "3265f4f5",
   "metadata": {},
   "outputs": [
    {
     "name": "stdout",
     "output_type": "stream",
     "text": [
      "[ 3 29 37 91 45 49 60 75 55 92]\n",
      "['3' '29' '37' '91' '45' '49' 'even' '75' '55' 'even']\n",
      "['odd' 'odd' 'odd' 'odd' 'odd' 'odd' '60' 'odd' 'odd' '92']\n",
      "['odd' 'odd' 'odd' 'odd' 'odd' 'odd' 'even' 'odd' 'odd' 'even']\n"
     ]
    }
   ],
   "source": [
    "print(arr)\n",
    "\n",
    "print(np.where(arr%2==0, 'even',arr))\n",
    "print(np.where(arr%2!=0, 'odd',arr))\n",
    "\n",
    "arr1 = np.where(arr%2==0, 'even',arr)\n",
    "arr1 = np.where(arr%2!=0, 'odd',arr1)\n",
    "\n",
    "print(arr1)"
   ]
  },
  {
   "cell_type": "markdown",
   "id": "f9c7f4d9",
   "metadata": {},
   "source": [
    "# 26. Merging Arrays"
   ]
  },
  {
   "cell_type": "markdown",
   "id": "c2176c95",
   "metadata": {},
   "source": [
    "# a) Concatenate\n",
    "We can perform the concatenation operation using the concatenate() function. With this function, arrays are concatenated either row-wise or column-wise, given that they have equal rows or columns respectively. Column-wise concatenation can be done by equating axis to 1 as an argument in the function."
   ]
  },
  {
   "cell_type": "code",
   "execution_count": 106,
   "id": "8993710f",
   "metadata": {},
   "outputs": [
    {
     "name": "stdout",
     "output_type": "stream",
     "text": [
      "[[2 6 2 9]\n",
      " [9 8 1 1]]\n",
      "---------------\n",
      "[[2 8 9 8]\n",
      " [5 1 1 5]]\n",
      "------------------------------\n",
      "[[2 6 2 9]\n",
      " [9 8 1 1]\n",
      " [2 8 9 8]\n",
      " [5 1 1 5]]\n",
      "------------------------------\n",
      "[[2 6 2 9 2 8 9 8]\n",
      " [9 8 1 1 5 1 1 5]]\n"
     ]
    }
   ],
   "source": [
    "arr1 = np.random.randint(1,10,(2,4))\n",
    "arr2 = np.random.randint(1,10,(2,4))\n",
    "print(arr1)\n",
    "print('-'*15)\n",
    "print(arr2)\n",
    "\n",
    "print('-'*30)\n",
    "print(np.concatenate((arr1,arr2), axis = 0))\n",
    "print('-'*30)\n",
    "print(np.concatenate((arr1,arr2), axis = 1))"
   ]
  },
  {
   "cell_type": "markdown",
   "id": "194a9956",
   "metadata": {},
   "source": [
    "# b) Vstack and Hstack\n",
    "numpy.hstack() function is used to stack the sequence of input arrays horizontally (i.e. column wise) to make a single array."
   ]
  },
  {
   "cell_type": "code",
   "execution_count": 109,
   "id": "86900440",
   "metadata": {},
   "outputs": [
    {
     "name": "stdout",
     "output_type": "stream",
     "text": [
      "[[2 7 8 2]\n",
      " [1 1 6 9]]\n",
      "---------------\n",
      "[[5 9 9 4]\n",
      " [5 3 6 5]]\n",
      "---------------\n",
      "[[2 7 8 2 5 9 9 4]\n",
      " [1 1 6 9 5 3 6 5]]\n"
     ]
    }
   ],
   "source": [
    "arr1 = np.random.randint(1,10,(2,4))\n",
    "arr2 = np.random.randint(1,10,(2,4))\n",
    "\n",
    "print(arr1)\n",
    "print('-'*15)\n",
    "print(arr2)\n",
    "print('-'*15)\n",
    "\n",
    "print(np.hstack((arr1,arr2)))"
   ]
  },
  {
   "cell_type": "markdown",
   "id": "a7268f8d",
   "metadata": {},
   "source": [
    "numpy.vstack() function is used to stack the sequence of input arrays vertically to make a single array."
   ]
  },
  {
   "cell_type": "code",
   "execution_count": 113,
   "id": "d2d2d493",
   "metadata": {},
   "outputs": [
    {
     "name": "stdout",
     "output_type": "stream",
     "text": [
      "[[2 7 8 2]\n",
      " [1 1 6 9]]\n",
      "---------------\n",
      "[[5 9 9 4]\n",
      " [5 3 6 5]]\n",
      "---------------\n",
      "[[2 7 8 2]\n",
      " [1 1 6 9]\n",
      " [5 9 9 4]\n",
      " [5 3 6 5]]\n"
     ]
    }
   ],
   "source": [
    "print(arr1)\n",
    "print('-'*15)\n",
    "print(arr2)\n",
    "print('-'*15)\n",
    "\n",
    "print(np.vstack((arr1,arr2)))"
   ]
  },
  {
   "cell_type": "markdown",
   "id": "306d7a52",
   "metadata": {},
   "source": [
    "# 27. Splitting Arrays"
   ]
  },
  {
   "cell_type": "code",
   "execution_count": 114,
   "id": "8c136f49",
   "metadata": {},
   "outputs": [
    {
     "name": "stdout",
     "output_type": "stream",
     "text": [
      "[[9 2 6 4]\n",
      " [7 2 4 8]\n",
      " [5 1 9 5]\n",
      " [8 9 6 7]]\n"
     ]
    }
   ],
   "source": [
    "arr = np.random.randint(1,10,(4,4))\n",
    "\n",
    "print(arr)\n"
   ]
  },
  {
   "cell_type": "markdown",
   "id": "5c1921e3",
   "metadata": {},
   "source": [
    "numpy.vsplit() function split an array into multiple sub-arrays vertically (row-wise). vsplit is equivalent to split with axis=0 (default), the array is always split along the first axis regardless of the array dimension."
   ]
  },
  {
   "cell_type": "code",
   "execution_count": 115,
   "id": "8cae8ba6",
   "metadata": {},
   "outputs": [
    {
     "data": {
      "text/plain": [
       "[array([[9, 2, 6, 4],\n",
       "        [7, 2, 4, 8]]),\n",
       " array([[5, 1, 9, 5],\n",
       "        [8, 9, 6, 7]])]"
      ]
     },
     "execution_count": 115,
     "metadata": {},
     "output_type": "execute_result"
    }
   ],
   "source": [
    "np.vsplit(arr, 2)"
   ]
  },
  {
   "cell_type": "markdown",
   "id": "0422ba05",
   "metadata": {},
   "source": [
    "numpy.hsplit() function split an array into multiple sub-arrays horizontally (column-wise). hsplit is equivalent to split with axis=1, the array is always split along the second axis regardless of the array dimension."
   ]
  },
  {
   "cell_type": "code",
   "execution_count": 116,
   "id": "fa3b937f",
   "metadata": {},
   "outputs": [
    {
     "data": {
      "text/plain": [
       "[array([[9, 2],\n",
       "        [7, 2],\n",
       "        [5, 1],\n",
       "        [8, 9]]),\n",
       " array([[6, 4],\n",
       "        [4, 8],\n",
       "        [9, 5],\n",
       "        [6, 7]])]"
      ]
     },
     "execution_count": 116,
     "metadata": {},
     "output_type": "execute_result"
    }
   ],
   "source": [
    "np.hsplit(arr, 2)"
   ]
  },
  {
   "cell_type": "markdown",
   "id": "4f185895",
   "metadata": {},
   "source": [
    "# 28. Turning Pics into Numpy arrays"
   ]
  },
  {
   "attachments": {
    "GFG.png": {
     "image/png": "[encoded data removed]"
    }
   },
   "cell_type": "markdown",
   "id": "6283484a",
   "metadata": {},
   "source": [
    "![GFG.png](attachment:GFG.png)\n",
    "This is picture we are having right here\n",
    "\n",
    "Once we can turn this picture into an numpy array we can perform operations on that and pass the array even for some machine learning algorithms which will be benefitial for us\n",
    "\n",
    "We will be using imread function here which belongs from the matplotlib class\n"
   ]
  },
  {
   "cell_type": "code",
   "execution_count": 120,
   "id": "af64fbfb",
   "metadata": {},
   "outputs": [
    {
     "data": {
      "text/plain": [
       "(607, 1000, 3)"
      ]
     },
     "execution_count": 120,
     "metadata": {},
     "output_type": "execute_result"
    }
   ],
   "source": [
    "from matplotlib.image import imread\n",
    "img = imread(\"GFG.png\")\n",
    "img.shape"
   ]
  },
  {
   "cell_type": "code",
   "execution_count": 121,
   "id": "310bc7de",
   "metadata": {},
   "outputs": [
    {
     "data": {
      "text/plain": [
       "1.0"
      ]
     },
     "execution_count": 121,
     "metadata": {},
     "output_type": "execute_result"
    }
   ],
   "source": [
    "np.max(img)"
   ]
  }
 ],
 "metadata": {
  "kernelspec": {
   "display_name": "Python 3 (ipykernel)",
   "language": "python",
   "name": "python3"
  },
  "language_info": {
   "codemirror_mode": {
    "name": "ipython",
    "version": 3
   },
   "file_extension": ".py",
   "mimetype": "text/x-python",
   "name": "python",
   "nbconvert_exporter": "python",
   "pygments_lexer": "ipython3",
   "version": "3.9.13"
  }
 },
 "nbformat": 4,
 "nbformat_minor": 5
}
